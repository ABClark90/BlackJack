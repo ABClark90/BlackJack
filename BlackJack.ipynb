{
 "cells": [
  {
   "cell_type": "code",
   "execution_count": 1,
   "metadata": {},
   "outputs": [],
   "source": [
    "import gym\n",
    "import numpy as np\n",
    "import matplotlib.pyplot as plt"
   ]
  },
  {
   "cell_type": "code",
   "execution_count": 2,
   "metadata": {},
   "outputs": [],
   "source": [
    "if __name__ == '__main__':\n",
    "    env = gym.make('Blackjack-v0')\n",
    "    EPS = 0.05\n",
    "    GAMMA = 1.0\n"
   ]
  },
  {
   "cell_type": "code",
   "execution_count": 3,
   "metadata": {},
   "outputs": [],
   "source": [
    "#Spaces in the environment\n",
    "agentSumSpace = [i for i in range(4, 22)] #Anything over 22 is irrelevant 22+ is a fail state\n",
    "dealerShowCardSpace = [i+1 for i in range(10)]#Dealer has a card showing\n",
    "agentAceSpace = [False, True]\n",
    "actionSpace = [0, 1] # stay or hit\n",
    "stateSpace = []"
   ]
  },
  {
   "cell_type": "code",
   "execution_count": 4,
   "metadata": {},
   "outputs": [],
   "source": [
    "Q = {}\n",
    "C = {} #sum of relative weights\n",
    "for total in agentSumSpace:\n",
    "    for card in dealerShowCardSpace:\n",
    "        for ace in agentAceSpace:\n",
    "            for action in actionSpace:\n",
    "                Q[((total, card, ace), action)] = 0\n",
    "                C[((total, card, ace), action)] = 0\n",
    "            stateSpace.append((total, card, ace))"
   ]
  },
  {
   "cell_type": "code",
   "execution_count": 5,
   "metadata": {},
   "outputs": [],
   "source": [
    "targetPolicy = {} #calculate optimal behaviour in environment\n",
    "for state in stateSpace:\n",
    "    values = np.array([Q[(state, a)] for a in actionSpace ])\n",
    "    best = np.random.choice(np.where(values==values.max())[0])        \n",
    "    targetPolicy[state] = actionSpace[best]\n"
   ]
  },
  {
   "cell_type": "code",
   "execution_count": 6,
   "metadata": {},
   "outputs": [
    {
     "name": "stdout",
     "output_type": "stream",
     "text": [
      "starting episode 0\n",
      "starting episode 100000\n",
      "starting episode 200000\n",
      "starting episode 300000\n",
      "starting episode 400000\n",
      "starting episode 500000\n",
      "starting episode 600000\n",
      "starting episode 700000\n",
      "starting episode 800000\n",
      "starting episode 900000\n"
     ]
    }
   ],
   "source": [
    "numEpisodes = 1000000 #play million games to train\n",
    "for i in range(numEpisodes):        \n",
    "    memory = []\n",
    "    if i % 100000 == 0:\n",
    "        print('starting episode', i)\n",
    "    behaviorPolicy = {}\n",
    "    for state in stateSpace:\n",
    "        rand = np.random.random()\n",
    "        if rand < 1 - EPS:\n",
    "            behaviorPolicy[state] = [targetPolicy[state]]\n",
    "        else:\n",
    "            behaviorPolicy[state] = actionSpace\n",
    "    observation = env.reset()\n",
    "    done = False\n",
    "    while not done:\n",
    "        action = np.random.choice(behaviorPolicy[observation])\n",
    "        observation_, reward, done, info = env.step(action)\n",
    "        memory.append((observation[0], observation[1], observation[2], action, reward))\n",
    "        observation = observation_\n",
    "    memory.append((observation[0], observation[1], observation[2], action, reward))    \n",
    "    G = 0\n",
    "    W = 1\n",
    "    last = True\n",
    "    for playerSum, dealerCard, usableAce, action, reward in reversed(memory):\n",
    "        sa = ((playerSum, dealerCard, usableAce), action)\n",
    "        if last:\n",
    "            last = False\n",
    "        else:\n",
    "            C[sa] += W\n",
    "            Q[sa] += (W / C[sa])*(G-Q[sa])                \n",
    "            values = np.array([Q[(state, a)] for a in actionSpace ])\n",
    "            best = np.random.choice(np.where(values==values.max())[0])        \n",
    "            targetPolicy[state] = actionSpace[best]\n",
    "            if action != targetPolicy[state]:\n",
    "                        break\n",
    "            if len(behaviorPolicy[state]) == 1:\n",
    "                        prob = 1 - EPS\n",
    "            else:\n",
    "                prob = EPS / len(behaviorPolicy[state])             \n",
    "            W *= 1/prob                             \n",
    "        G = GAMMA*G + reward\n",
    "    if EPS - 1e-7 > 0:\n",
    "        EPS -= 1e-7\n",
    "    else:\n",
    "        EPS = 0"
   ]
  },
  {
   "cell_type": "code",
   "execution_count": 11,
   "metadata": {},
   "outputs": [
    {
     "name": "stdout",
     "output_type": "stream",
     "text": [
      "getting ready to test\n"
     ]
    }
   ],
   "source": [
    "numEpisodes = 1000 # play 1000 games to test\n",
    "rewards = np.zeros(numEpisodes)\n",
    "totalReward = 0\n",
    "wins = 0\n",
    "losses = 0\n",
    "draws = 0\n",
    "print('getting ready to test')   \n",
    "for i in range(numEpisodes):\n",
    "    observation = env.reset()\n",
    "    done = False\n",
    "    while not done:\n",
    "        action = targetPolicy[observation]\n",
    "        observation_, reward, done, info = env.step(action)            \n",
    "        observation = observation_\n",
    "    totalReward += reward\n",
    "    rewards[i] = totalReward\n",
    "\n",
    "    if reward >= 1:\n",
    "        wins += 1\n",
    "    elif reward == 0:\n",
    "        draws += 1\n",
    "    elif reward == -1:\n",
    "        losses += 1"
   ]
  },
  {
   "cell_type": "code",
   "execution_count": 10,
   "metadata": {},
   "outputs": [
    {
     "name": "stdout",
     "output_type": "stream",
     "text": [
      "win rate 0.268 loss rate 0.692 draw rate 0.04\n"
     ]
    },
    {
     "data": {
      "image/png": "[encoded data removed]",
      "text/plain": [
       "<Figure size 432x288 with 1 Axes>"
      ]
     },
     "metadata": {
      "needs_background": "light"
     },
     "output_type": "display_data"
    }
   ],
   "source": [
    "#Show the results\n",
    "wins /= numEpisodes\n",
    "losses /= numEpisodes\n",
    "draws /= numEpisodes\n",
    "print('win rate', wins, 'loss rate', losses, 'draw rate', draws) # not great\n",
    "plt.plot(rewards)\n",
    "plt.show()"
   ]
  },
  {
   "cell_type": "code",
   "execution_count": null,
   "metadata": {},
   "outputs": [],
   "source": []
  },
  {
   "cell_type": "code",
   "execution_count": null,
   "metadata": {},
   "outputs": [],
   "source": []
  },
  {
   "cell_type": "code",
   "execution_count": null,
   "metadata": {},
   "outputs": [],
   "source": []
  }
 ],
 "metadata": {
  "kernelspec": {
   "display_name": "Python 3",
   "language": "python",
   "name": "python3"
  },
  "language_info": {
   "codemirror_mode": {
    "name": "ipython",
    "version": 3
   },
   "file_extension": ".py",
   "mimetype": "text/x-python",
   "name": "python",
   "nbconvert_exporter": "python",
   "pygments_lexer": "ipython3",
   "version": "3.7.3"
  }
 },
 "nbformat": 4,
 "nbformat_minor": 2
}
